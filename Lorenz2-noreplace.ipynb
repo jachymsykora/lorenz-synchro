{
 "cells": [
  {
   "cell_type": "code",
   "execution_count": null,
   "metadata": {},
   "outputs": [],
   "source": [
    "using Plots"
   ]
  },
  {
   "cell_type": "code",
   "execution_count": null,
   "metadata": {},
   "outputs": [],
   "source": [
    "s = 10.;\n",
    "b = 8/3.;\n",
    "r = 28.;\n",
    "mutable struct Lorenz\n",
    "     x; y; z;\n",
    "end\n",
    "rLorenz()=Lorenz(50.0*rand()-25.,50.0*rand()-25.,50.0*rand())\n",
    "function step!(a::Lorenz,x,dt)\n",
    "    a.x+=dt*s*(a.y-x);\n",
    "    a.y+=dt*(x*(r-a.z)-a.y);\n",
    "    a.z+=dt*(x*a.y-b*a.z);\n",
    "    end;\n",
    "Base.copy(a::Lorenz)=Lorenz(a.x,a.y,a.z)"
   ]
  },
  {
   "cell_type": "code",
   "execution_count": null,
   "metadata": {},
   "outputs": [],
   "source": [
    "#=\n",
    "time step of array of attractors where x-coordinates \n",
    "are replaced in the derivatives by a weighted average of other x coordinates + noise\n",
    "=#\n",
    "function step!(attractors::Array{Lorenz,1},weights::Array{Float64,2},dt,rnd)\n",
    "    #calculate new x-coordinates\n",
    "    local xs=zeros(length(attractors));\n",
    "    for i in 1:length(attractors)\n",
    "        for j in 1:length(attractors)\n",
    "            xs[i]+=weights[i,j]*attractors[j].x;\n",
    "        end\n",
    "        xs[i]/=sum(weights[i,:]);\n",
    "        xs[i]+=2*rnd*(rand()-.5)\n",
    "    end\n",
    "    #update coordinates and perform time step\n",
    "    for i in 1:length(attractors)\n",
    "        step!(attractors[i],xs[i],dt);\n",
    "    end\n",
    "end"
   ]
  },
  {
   "cell_type": "code",
   "execution_count": null,
   "metadata": {},
   "outputs": [],
   "source": [
    "# 3d plot of array of Lorenz attractors\n",
    "function plotL(rec::Array{Array{Lorenz,1},1})\n",
    "    x=[rec[i][1].x for i=1:length(rec)];\n",
    "    y=[rec[i][1].y for i=1:length(rec)];\n",
    "    z=[rec[i][1].z for i=1:length(rec)];\n",
    "    for j=2:length(rec[1])\n",
    "        x=hcat(x,[rec[i][j].x for i=1:length(rec)]);\n",
    "        y=hcat(y,[rec[i][j].y for i=1:length(rec)]);\n",
    "        z=hcat(z,[rec[i][j].z for i=1:length(rec)]);\n",
    "    end\n",
    "    plot3d(x,y,z, xlim=(-25,25), ylim=(-25,25), zlim=(0,50),leg=false)\n",
    "end\n",
    "# YZ plane plot of array of Lorenz attractors\n",
    "function plotLyz(rec::Array{Array{Lorenz,1},1})\n",
    "    y=[rec[i][1].y for i=1:length(rec)];\n",
    "    z=[rec[i][1].z for i=1:length(rec)];\n",
    "    for j=2:length(rec[1])\n",
    "        y=hcat(y,[rec[i][j].y for i=1:length(rec)]);\n",
    "        z=hcat(z,[rec[i][j].z for i=1:length(rec)]);\n",
    "    end\n",
    "    plot(y,z, xlim=(-25,25), ylim=(0,50),leg=false)\n",
    "end\n",
    "function distYZ(a::Lorenz,b::Lorenz)\n",
    "    sqrt((a.y-b.y)^2+(a.z-b.z)^2)\n",
    "end\n",
    "function distX(a::Lorenz,b::Lorenz)\n",
    "    abs(a.x-b.x)\n",
    "end"
   ]
  },
  {
   "cell_type": "code",
   "execution_count": null,
   "metadata": {},
   "outputs": [],
   "source": [
    "w1=[2. 1.;1. 2.];# synchro\n",
    "w2=[1. 0.;0. 1.];# no synchro\n",
    "dt=.01;\n",
    "noise=.1^10;\n",
    "as=Array{Lorenz,1}();\n",
    "for i=1:2\n",
    "    push!(as,rLorenz());\n",
    "end\n",
    "record=Array{Array{Lorenz,1},1}();\n",
    "for j=1:3000\n",
    "    step!(as,w1,dt,noise);\n",
    "    push!(record,deepcopy(as));\n",
    "end\n",
    "for j=1:4000\n",
    "    step!(as,w2,dt,noise);\n",
    "    push!(record,deepcopy(as));\n",
    "end\n",
    "for j=1:3000\n",
    "    step!(as,w1,dt,noise);\n",
    "    push!(record,deepcopy(as));\n",
    "end"
   ]
  },
  {
   "cell_type": "code",
   "execution_count": null,
   "metadata": {
    "scrolled": true
   },
   "outputs": [],
   "source": [
    "plot([record[i][1].x for i=1:length(record)],leg=false)"
   ]
  },
  {
   "cell_type": "code",
   "execution_count": null,
   "metadata": {},
   "outputs": [],
   "source": [
    "plot([distYZ(record[i][1],record[i][2]) for i=1:length(record)],yaxis=:log,leg=false)"
   ]
  },
  {
   "cell_type": "code",
   "execution_count": null,
   "metadata": {},
   "outputs": [],
   "source": [
    "plot([distX(record[i][1],record[i][2]) for i=1:length(record)],yaxis=:log,leg=false)"
   ]
  },
  {
   "cell_type": "code",
   "execution_count": null,
   "metadata": {},
   "outputs": [],
   "source": []
  }
 ],
 "metadata": {
  "kernelspec": {
   "display_name": "Julia 1.3.1",
   "language": "julia",
   "name": "julia-1.3"
  },
  "language_info": {
   "file_extension": ".jl",
   "mimetype": "application/julia",
   "name": "julia",
   "version": "1.3.1"
  }
 },
 "nbformat": 4,
 "nbformat_minor": 2
}
